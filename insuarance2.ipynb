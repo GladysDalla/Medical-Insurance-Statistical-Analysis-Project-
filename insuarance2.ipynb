{
 "cells": [
  {
   "cell_type": "markdown",
   "id": "bc87ec71",
   "metadata": {},
   "source": [
    "#### Medical Cost Project\n",
    "\n",
    "Several factors influence how much one pays for insurance and this dataset gives a breakdown of some of the factors. The objective of this analysis is to explore the gender based differences in relation to medical cost insuarance.\n",
    "I will be guided by the following questions;\n",
    "\n",
    "1. Is there any significant difference in medical costs billed between genders?\n",
    "2. Do beneficiaries with more dependents, categorized by gender, tend to have higher medical costs billed?\n",
    "3. Is there a significant difference in medical costs billed between male and female smokers compared to male and female non-smokers?\n",
    "4. Do male and female beneficiaries from certain regions tend to have higher medical costs billed compared to those from other regions?\n",
    "5. Does gender have a significant impact on medical charges among individuals with different BMI categories, particularly focusing on overweight individuals (25.0 <= BMI < 30.0) and obese individuals (BMI >= 30)\n",
    "\n",
    "The dataset is composed of 1338 instances (rows) and 7 features (columns). Here are the features;\n",
    "\n",
    "1. age: age of primary beneficiary\n",
    "2. sex: insurance contractor gender, female, male\n",
    "3. bmi: Body mass index,\n",
    "4. children: Number of children covered by health insurance / Number of dependents\n",
    "5. smoker: Smoking\n",
    "6. region: the beneficiary's residential area in the US, northeast, southeast, southwest, northwest\n",
    "7. Charges :- Individual medical costs billed to health insurance"
   ]
  },
  {
   "cell_type": "code",
   "execution_count": 1,
   "id": "2150ab20",
   "metadata": {},
   "outputs": [],
   "source": [
    "import pandas as pd\n",
    "import numpy as np\n",
    "from scipy import stats\n",
    "from scipy.stats import levene\n",
    "from sklearn.preprocessing import OneHotEncoder\n",
    "from scipy.stats import ttest_ind\n",
    "from scipy.stats import shapiro, levene, mannwhitneyu\n",
    "import matplotlib.pyplot as plt\n",
    "import seaborn as sns\n",
    "\n",
    "%matplotlib inline\n",
    "\n",
    "# Suppress warnings from final output\n",
    "import warnings\n",
    "warnings.simplefilter(\"ignore\")"
   ]
  },
  {
   "cell_type": "code",
   "execution_count": 28,
   "id": "860cb6c0",
   "metadata": {},
   "outputs": [
    {
     "data": {
      "text/html": [
       "<div>\n",
       "<style scoped>\n",
       "    .dataframe tbody tr th:only-of-type {\n",
       "        vertical-align: middle;\n",
       "    }\n",
       "\n",
       "    .dataframe tbody tr th {\n",
       "        vertical-align: top;\n",
       "    }\n",
       "\n",
       "    .dataframe thead th {\n",
       "        text-align: right;\n",
       "    }\n",
       "</style>\n",
       "<table border=\"1\" class=\"dataframe\">\n",
       "  <thead>\n",
       "    <tr style=\"text-align: right;\">\n",
       "      <th></th>\n",
       "      <th>age</th>\n",
       "      <th>sex</th>\n",
       "      <th>bmi</th>\n",
       "      <th>children</th>\n",
       "      <th>smoker</th>\n",
       "      <th>region</th>\n",
       "      <th>charges</th>\n",
       "    </tr>\n",
       "  </thead>\n",
       "  <tbody>\n",
       "    <tr>\n",
       "      <th>0</th>\n",
       "      <td>19</td>\n",
       "      <td>female</td>\n",
       "      <td>27.900</td>\n",
       "      <td>0</td>\n",
       "      <td>yes</td>\n",
       "      <td>southwest</td>\n",
       "      <td>16884.92400</td>\n",
       "    </tr>\n",
       "    <tr>\n",
       "      <th>1</th>\n",
       "      <td>18</td>\n",
       "      <td>male</td>\n",
       "      <td>33.770</td>\n",
       "      <td>1</td>\n",
       "      <td>no</td>\n",
       "      <td>southeast</td>\n",
       "      <td>1725.55230</td>\n",
       "    </tr>\n",
       "    <tr>\n",
       "      <th>2</th>\n",
       "      <td>28</td>\n",
       "      <td>male</td>\n",
       "      <td>33.000</td>\n",
       "      <td>3</td>\n",
       "      <td>no</td>\n",
       "      <td>southeast</td>\n",
       "      <td>4449.46200</td>\n",
       "    </tr>\n",
       "    <tr>\n",
       "      <th>3</th>\n",
       "      <td>33</td>\n",
       "      <td>male</td>\n",
       "      <td>22.705</td>\n",
       "      <td>0</td>\n",
       "      <td>no</td>\n",
       "      <td>northwest</td>\n",
       "      <td>21984.47061</td>\n",
       "    </tr>\n",
       "    <tr>\n",
       "      <th>4</th>\n",
       "      <td>32</td>\n",
       "      <td>male</td>\n",
       "      <td>28.880</td>\n",
       "      <td>0</td>\n",
       "      <td>no</td>\n",
       "      <td>northwest</td>\n",
       "      <td>3866.85520</td>\n",
       "    </tr>\n",
       "  </tbody>\n",
       "</table>\n",
       "</div>"
      ],
      "text/plain": [
       "   age     sex     bmi  children smoker     region      charges\n",
       "0   19  female  27.900         0    yes  southwest  16884.92400\n",
       "1   18    male  33.770         1     no  southeast   1725.55230\n",
       "2   28    male  33.000         3     no  southeast   4449.46200\n",
       "3   33    male  22.705         0     no  northwest  21984.47061\n",
       "4   32    male  28.880         0     no  northwest   3866.85520"
      ]
     },
     "execution_count": 28,
     "metadata": {},
     "output_type": "execute_result"
    }
   ],
   "source": [
    "df = pd.read_csv('insurance.csv')\n",
    "df.head()"
   ]
  },
  {
   "cell_type": "code",
   "execution_count": 3,
   "id": "b4ce8e18",
   "metadata": {},
   "outputs": [
    {
     "name": "stdout",
     "output_type": "stream",
     "text": [
      "<class 'pandas.core.frame.DataFrame'>\n",
      "RangeIndex: 1338 entries, 0 to 1337\n",
      "Data columns (total 7 columns):\n",
      " #   Column    Non-Null Count  Dtype  \n",
      "---  ------    --------------  -----  \n",
      " 0   age       1338 non-null   int64  \n",
      " 1   sex       1338 non-null   object \n",
      " 2   bmi       1338 non-null   float64\n",
      " 3   children  1338 non-null   int64  \n",
      " 4   smoker    1338 non-null   object \n",
      " 5   region    1338 non-null   object \n",
      " 6   charges   1338 non-null   float64\n",
      "dtypes: float64(2), int64(2), object(3)\n",
      "memory usage: 73.3+ KB\n"
     ]
    }
   ],
   "source": [
    "df.info()"
   ]
  },
  {
   "cell_type": "code",
   "execution_count": 4,
   "id": "3a1a6e8f",
   "metadata": {
    "scrolled": true
   },
   "outputs": [
    {
     "data": {
      "text/html": [
       "<div>\n",
       "<style scoped>\n",
       "    .dataframe tbody tr th:only-of-type {\n",
       "        vertical-align: middle;\n",
       "    }\n",
       "\n",
       "    .dataframe tbody tr th {\n",
       "        vertical-align: top;\n",
       "    }\n",
       "\n",
       "    .dataframe thead th {\n",
       "        text-align: right;\n",
       "    }\n",
       "</style>\n",
       "<table border=\"1\" class=\"dataframe\">\n",
       "  <thead>\n",
       "    <tr style=\"text-align: right;\">\n",
       "      <th></th>\n",
       "      <th>count</th>\n",
       "      <th>mean</th>\n",
       "      <th>std</th>\n",
       "      <th>min</th>\n",
       "      <th>25%</th>\n",
       "      <th>50%</th>\n",
       "      <th>75%</th>\n",
       "      <th>max</th>\n",
       "    </tr>\n",
       "  </thead>\n",
       "  <tbody>\n",
       "    <tr>\n",
       "      <th>age</th>\n",
       "      <td>1338.0</td>\n",
       "      <td>39.207025</td>\n",
       "      <td>14.049960</td>\n",
       "      <td>18.0000</td>\n",
       "      <td>27.00000</td>\n",
       "      <td>39.000</td>\n",
       "      <td>51.000000</td>\n",
       "      <td>64.00000</td>\n",
       "    </tr>\n",
       "    <tr>\n",
       "      <th>bmi</th>\n",
       "      <td>1338.0</td>\n",
       "      <td>30.663397</td>\n",
       "      <td>6.098187</td>\n",
       "      <td>15.9600</td>\n",
       "      <td>26.29625</td>\n",
       "      <td>30.400</td>\n",
       "      <td>34.693750</td>\n",
       "      <td>53.13000</td>\n",
       "    </tr>\n",
       "    <tr>\n",
       "      <th>children</th>\n",
       "      <td>1338.0</td>\n",
       "      <td>1.094918</td>\n",
       "      <td>1.205493</td>\n",
       "      <td>0.0000</td>\n",
       "      <td>0.00000</td>\n",
       "      <td>1.000</td>\n",
       "      <td>2.000000</td>\n",
       "      <td>5.00000</td>\n",
       "    </tr>\n",
       "    <tr>\n",
       "      <th>charges</th>\n",
       "      <td>1338.0</td>\n",
       "      <td>13270.422265</td>\n",
       "      <td>12110.011237</td>\n",
       "      <td>1121.8739</td>\n",
       "      <td>4740.28715</td>\n",
       "      <td>9382.033</td>\n",
       "      <td>16639.912515</td>\n",
       "      <td>63770.42801</td>\n",
       "    </tr>\n",
       "  </tbody>\n",
       "</table>\n",
       "</div>"
      ],
      "text/plain": [
       "           count          mean           std        min         25%       50%  \\\n",
       "age       1338.0     39.207025     14.049960    18.0000    27.00000    39.000   \n",
       "bmi       1338.0     30.663397      6.098187    15.9600    26.29625    30.400   \n",
       "children  1338.0      1.094918      1.205493     0.0000     0.00000     1.000   \n",
       "charges   1338.0  13270.422265  12110.011237  1121.8739  4740.28715  9382.033   \n",
       "\n",
       "                   75%          max  \n",
       "age          51.000000     64.00000  \n",
       "bmi          34.693750     53.13000  \n",
       "children      2.000000      5.00000  \n",
       "charges   16639.912515  63770.42801  "
      ]
     },
     "execution_count": 4,
     "metadata": {},
     "output_type": "execute_result"
    }
   ],
   "source": [
    "df.describe().T"
   ]
  },
  {
   "cell_type": "code",
   "execution_count": 5,
   "id": "a8974ccd",
   "metadata": {
    "scrolled": true
   },
   "outputs": [
    {
     "data": {
      "text/plain": [
       "age         0\n",
       "sex         0\n",
       "bmi         0\n",
       "children    0\n",
       "smoker      0\n",
       "region      0\n",
       "charges     0\n",
       "dtype: int64"
      ]
     },
     "execution_count": 5,
     "metadata": {},
     "output_type": "execute_result"
    }
   ],
   "source": [
    "df.isnull().sum()"
   ]
  },
  {
   "cell_type": "code",
   "execution_count": 6,
   "id": "e4e4c70c",
   "metadata": {},
   "outputs": [
    {
     "data": {
      "text/plain": [
       "1"
      ]
     },
     "execution_count": 6,
     "metadata": {},
     "output_type": "execute_result"
    }
   ],
   "source": [
    "df.duplicated().sum()"
   ]
  },
  {
   "cell_type": "code",
   "execution_count": 7,
   "id": "e01d6e4b",
   "metadata": {},
   "outputs": [],
   "source": [
    "df = df.drop_duplicates()"
   ]
  },
  {
   "cell_type": "code",
   "execution_count": 8,
   "id": "6f8229b7",
   "metadata": {},
   "outputs": [
    {
     "data": {
      "text/plain": [
       "array([19, 18, 28, 33, 32, 31, 46, 37, 60, 25, 62, 23, 56, 27, 52, 30, 34,\n",
       "       59, 63, 55, 22, 26, 35, 24, 41, 38, 36, 21, 48, 40, 58, 53, 43, 64,\n",
       "       20, 61, 44, 57, 29, 45, 54, 49, 47, 51, 42, 50, 39], dtype=int64)"
      ]
     },
     "execution_count": 8,
     "metadata": {},
     "output_type": "execute_result"
    }
   ],
   "source": [
    "df['age'].unique()"
   ]
  },
  {
   "cell_type": "code",
   "execution_count": 9,
   "id": "d63d290d",
   "metadata": {},
   "outputs": [
    {
     "data": {
      "text/plain": [
       "male      675\n",
       "female    662\n",
       "Name: sex, dtype: int64"
      ]
     },
     "execution_count": 9,
     "metadata": {},
     "output_type": "execute_result"
    }
   ],
   "source": [
    "df['sex'].value_counts()"
   ]
  },
  {
   "cell_type": "code",
   "execution_count": 21,
   "id": "76c71179",
   "metadata": {},
   "outputs": [
    {
     "data": {
      "text/plain": [
       "no     1063\n",
       "yes     274\n",
       "Name: smoker, dtype: int64"
      ]
     },
     "execution_count": 21,
     "metadata": {},
     "output_type": "execute_result"
    }
   ],
   "source": [
    "df['smoker'].value_counts()"
   ]
  },
  {
   "cell_type": "code",
   "execution_count": 10,
   "id": "d7a28948",
   "metadata": {},
   "outputs": [
    {
     "name": "stdout",
     "output_type": "stream",
     "text": [
      "The proportion of males is: 50.49%, females: 49.51%\n"
     ]
    }
   ],
   "source": [
    "# Distribution of Male and Female in the dataset\n",
    "\n",
    "gender_counts = df['sex'].value_counts()\n",
    "total_count = df.shape[0]\n",
    "male_count = gender_counts['male']\n",
    "female_count = gender_counts['female']\n",
    "male_proportion = male_count / total_count \n",
    "female_proportion = female_count / total_count\n",
    "print(\"The proportion of males is: {:.2%}, females: {:.2%}\".format(male_proportion, female_proportion))"
   ]
  },
  {
   "cell_type": "code",
   "execution_count": 11,
   "id": "7ad44e00",
   "metadata": {},
   "outputs": [],
   "source": [
    "df['charges'] = df['charges'].round(2)\n",
    "df['bmi'] = df['bmi'].round(0)"
   ]
  },
  {
   "cell_type": "code",
   "execution_count": 32,
   "id": "5bb52618",
   "metadata": {},
   "outputs": [],
   "source": [
    "# Filter the DataFrame for individuals with BMI between 25.0 and 30.0\n",
    "overweight = df[(df['bmi'] >= 25.0) & (df['bmi'] < 30.0)]\n",
    "\n",
    "# Filter the DataFrame for obese individuals (BMI >= 30)\n",
    "obese_individuals = df[df['bmi'] >= 30.0]\n",
    "\n",
    "# Add a new column to differentiate between BMI categories\n",
    "overweight['BMI Category'] = '25.0 <= BMI < 30.0'\n",
    "obese_individuals['BMI Category'] = 'BMI >= 30'\n",
    "\n",
    "# Concatenate the two filtered DataFrames\n",
    "combined_df = pd.concat([overweight, obese_individuals])"
   ]
  },
  {
   "cell_type": "code",
   "execution_count": 33,
   "id": "02b5c009",
   "metadata": {},
   "outputs": [
    {
     "data": {
      "image/png": "[encoded data removed]",
      "text/plain": [
       "<Figure size 1200x800 with 4 Axes>"
      ]
     },
     "metadata": {},
     "output_type": "display_data"
    }
   ],
   "source": [
    "# Set up the figure with multiple subplots\n",
    "fig, axes = plt.subplots(nrows=2, ncols=2, figsize=(12, 8))\n",
    "\n",
    "# Box plot for smokers\n",
    "sns.boxplot(x='smoker', y='charges', hue='sex', data=df, ax=axes[0,0])\n",
    "axes[0,0].set_title('Distribution of Charges by Smoking Status')\n",
    "\n",
    "# Box plot for Overweight and Obese \n",
    "sns.boxplot(x='BMI Category', y='bmi', hue='sex', data=combined_df, ax=axes[0,1])\n",
    "axes[0,1].set_title('BMI Distribution by BMI Category and Sex')\n",
    "\n",
    "# Box plot for regions\n",
    "#sns.boxplot(x='region', y='charges', hue='sex', data=df, ax=axes[0,1])\n",
    "#axes[0,1].set_title('Distribution of Charges by Region')\n",
    "\n",
    "# Box plot for number of children\n",
    "sns.boxplot(x='children', y='charges', hue='sex', data=df, ax=axes[1,0])\n",
    "axes[1,0].set_title('Distribution of Charges by Number of Children')\n",
    "\n",
    "# Box plot for gender\n",
    "sns.boxplot(x='sex', y='charges', data=df, ax=axes[1,1])\n",
    "axes[1,1].set_title('Distribution of Charges by Gender')\n",
    "\n",
    "# Adjust layout\n",
    "plt.tight_layout()\n",
    "\n",
    "# Show the plots\n",
    "plt.show()"
   ]
  },
  {
   "cell_type": "markdown",
   "id": "e4109193",
   "metadata": {},
   "source": [
    "### Is there any significant difference in medical costs billed between genders?\n",
    "\n",
    "1. Check Normality and Variance\n",
    "2. With the above results, use the appropriate test to test the significant difference"
   ]
  },
  {
   "cell_type": "code",
   "execution_count": 13,
   "id": "0fd0ea96",
   "metadata": {},
   "outputs": [
    {
     "name": "stdout",
     "output_type": "stream",
     "text": [
      "Shapiro-Wilk test results for normality:\n",
      "Male: Statistic = 0.8230364322662354 , p-value = 1.2707258039675783e-26\n",
      "Female: Statistic = 0.8053944110870361 , p-value = 1.8305655972609575e-27\n",
      "\n",
      "Levene's test results for equality of variances:\n",
      "Statistic = 9.924362234609646 , p-value = 0.0016672618756968579\n"
     ]
    }
   ],
   "source": [
    "df_cleaned2 = df.dropna()\n",
    "\n",
    "# Extract charges for male and female separately\n",
    "charges_male = df_cleaned2[df_cleaned2['sex'] == 'male']['charges']\n",
    "charges_female = df_cleaned2[df_cleaned2['sex'] == 'female']['charges']\n",
    "\n",
    "# Shapiro-Wilk test for normality\n",
    "shapiro_stat_male, shapiro_pvalue_male = shapiro(charges_male)\n",
    "shapiro_stat_female, shapiro_pvalue_female = shapiro(charges_female)\n",
    "\n",
    "# Levene's test for equality of variances\n",
    "levene_stat, levene_pvalue = levene(charges_male, charges_female)\n",
    "\n",
    "# Print test results\n",
    "print(\"Shapiro-Wilk test results for normality:\")\n",
    "print(\"Male: Statistic =\", shapiro_stat_male, \", p-value =\", shapiro_pvalue_male)\n",
    "print(\"Female: Statistic =\", shapiro_stat_female, \", p-value =\", shapiro_pvalue_female)\n",
    "\n",
    "print(\"\\nLevene's test results for equality of variances:\")\n",
    "print(\"Statistic =\", levene_stat, \", p-value =\", levene_pvalue)"
   ]
  },
  {
   "cell_type": "markdown",
   "id": "fdfcad35",
   "metadata": {},
   "source": [
    "The Shapiro-Wilk test results indicate that the charges for both male and female groups are not normally distributed, as evidenced by the very low p-values (both p-values are close to 0). This suggests that the assumption of normality is violated for both groups.\n",
    "\n",
    "Levene's test results indicate that the variances of charges between male and female groups are significantly different, as evidenced by the low p-value (p-value < 0.05). This violates the assumption of equality of variances between groups.\n",
    "\n",
    "Since the assumptions of normality and equal variances are both violated, conducting parametric tests such as the two-sample t-test is not appropriate. Instead, non-parametric tests like the Mann-Whitney U test can be used to compare charges between male and female groups, as they do not rely on these assumptions."
   ]
  },
  {
   "cell_type": "code",
   "execution_count": 14,
   "id": "fade32ba",
   "metadata": {},
   "outputs": [
    {
     "name": "stdout",
     "output_type": "stream",
     "text": [
      "Mann-Whitney U test result:\n",
      "Test statistic: 226198.0\n",
      "p-value: 0.6944793894954917\n"
     ]
    }
   ],
   "source": [
    "# Perform Mann-Whitney U test\n",
    "u_statistic, p_value = mannwhitneyu(charges_male, charges_female)\n",
    "\n",
    "# Print the result\n",
    "print(\"Mann-Whitney U test result:\")\n",
    "print(\"Test statistic:\", u_statistic)\n",
    "print(\"p-value:\", p_value)"
   ]
  },
  {
   "cell_type": "markdown",
   "id": "7c769117",
   "metadata": {},
   "source": [
    "The Mann-Whitney U test results indicate that there is no significant difference in medical costs billed (charges) between male and female groups.\n",
    "\n",
    "Since the p-value (0.6945) is greater than the chosen significance level (e.g., 0.05), we fail to reject the null hypothesis. This suggests that there is insufficient evidence to conclude that there are differences in charges between male and female groups.\n",
    "\n",
    "Therefore, based on the Mann-Whitney U test, we do not find evidence to support the hypothesis that there is a significant difference in medical costs billed between genders."
   ]
  },
  {
   "cell_type": "markdown",
   "id": "d701abd1",
   "metadata": {},
   "source": [
    "### Do beneficiaries with more dependents, categorized by gender, tend to have higher medical costs billed?"
   ]
  },
  {
   "cell_type": "code",
   "execution_count": 16,
   "id": "76bb9c4f",
   "metadata": {},
   "outputs": [
    {
     "name": "stdout",
     "output_type": "stream",
     "text": [
      "                            OLS Regression Results                            \n",
      "==============================================================================\n",
      "Dep. Variable:                charges   R-squared:                       0.008\n",
      "Model:                            OLS   Adj. R-squared:                  0.006\n",
      "Method:                 Least Squares   F-statistic:                     5.225\n",
      "Date:                Mon, 29 Apr 2024   Prob (F-statistic):            0.00549\n",
      "Time:                        22:02:41   Log-Likelihood:                -14462.\n",
      "No. Observations:                1337   AIC:                         2.893e+04\n",
      "Df Residuals:                    1334   BIC:                         2.894e+04\n",
      "Df Model:                           2                                         \n",
      "Covariance Type:            nonrobust                                         \n",
      "==============================================================================\n",
      "                 coef    std err          t      P>|t|      [0.025      0.975]\n",
      "------------------------------------------------------------------------------\n",
      "const       1.185e+04    553.855     21.402      0.000    1.08e+04    1.29e+04\n",
      "children     666.7540    274.006      2.433      0.015     129.224    1204.285\n",
      "sex_male    1376.7373    660.453      2.085      0.037      81.098    2672.377\n",
      "==============================================================================\n",
      "Omnibus:                      335.331   Durbin-Watson:                   2.012\n",
      "Prob(Omnibus):                  0.000   Jarque-Bera (JB):              649.111\n",
      "Skew:                           1.509   Prob(JB):                    1.12e-141\n",
      "Kurtosis:                       4.595   Cond. No.                         4.32\n",
      "==============================================================================\n",
      "\n",
      "Notes:\n",
      "[1] Standard Errors assume that the covariance matrix of the errors is correctly specified.\n"
     ]
    }
   ],
   "source": [
    "# Create dummy variables for 'sex' column\n",
    "df2 = pd.get_dummies(df, columns=['sex'], drop_first=True)\n",
    "\n",
    "# Now 'sex_male' column should exist\n",
    "#print(df2.head())\n",
    "\n",
    "# Perform regression analysis\n",
    "import statsmodels.api as sm\n",
    "\n",
    "# Define predictor variables (X) and outcome variable (y)\n",
    "X = df2[['children', 'sex_male']]  # Include gender as a predictor\n",
    "X = sm.add_constant(X)  # Add constant term\n",
    "y = df2['charges']\n",
    "\n",
    "# Fit the linear regression model\n",
    "model = sm.OLS(y, X).fit()\n",
    "\n",
    "# Print model summary\n",
    "print(model.summary())"
   ]
  },
  {
   "cell_type": "code",
   "execution_count": 20,
   "id": "c8d1dbc8",
   "metadata": {},
   "outputs": [
    {
     "name": "stdout",
     "output_type": "stream",
     "text": [
      "   Number of Children  Discrepancy\n",
      "0                   0  -966.395388\n",
      "1                   1 -1112.162033\n",
      "2                   2 -2245.777893\n",
      "3                   3 -2923.562690\n",
      "4                   4   155.387208\n",
      "5                   5  1922.347250\n"
     ]
    }
   ],
   "source": [
    "# Convert 'sex' column to dummy variables\n",
    "df = pd.get_dummies(df, columns=['sex'], drop_first=True)\n",
    "\n",
    "# Method to analyze the impact of the number of children on insurance charges for males and females\n",
    "def analyze_children_discrepancy(data):\n",
    "    # Calculate the discrepancy of insurance charges between males and females for each group\n",
    "    children_discrepancy = {}\n",
    "    children_groups = data.groupby('children')\n",
    "    \n",
    "    for children, group in children_groups:\n",
    "        male_charges = group[group['sex_male'] == 1]['charges']\n",
    "        female_charges = group[group['sex_male'] == 0]['charges']\n",
    "        \n",
    "        male_average_charge = male_charges.mean()\n",
    "        female_average_charge = female_charges.mean()\n",
    "        \n",
    "        discrepancy = female_average_charge - male_average_charge\n",
    "        children_discrepancy[children] = discrepancy\n",
    "    \n",
    "    discrepancies_df = pd.DataFrame(children_discrepancy.items(), columns=['Number of Children', 'Discrepancy'])\n",
    "    \n",
    "    return discrepancies_df\n",
    "\n",
    "discrepancies_df = analyze_children_discrepancy(df)\n",
    "print(discrepancies_df)"
   ]
  },
  {
   "cell_type": "markdown",
   "id": "56c55da8",
   "metadata": {},
   "source": [
    "> Number of Children: This column represents the number of children in each group.\n",
    "Discrepancy: This column represents the difference in average insurance charges between males and females for each group of children.\n",
    "A negative value indicates that, on average, females have higher insurance charges compared to males.\n",
    "A positive value indicates that, on average, males have higher insurance charges compared to females.\n",
    "\n",
    "> The result shows that the number of children can influence the discrepancy of insurance costs between males and females. For groups with no children up to three children, on average, males have insurance costs that are lower than females. However, for groups with four or five children, females tend to have higher costs compared to males.\n",
    "\n",
    "> For groups with no children to three children, males tend to have lower insurance costs compared to females. This is indicated by negative discrepancies, meaning that, on average, females have higher insurance costs than males in these groups.\n",
    "\n",
    "> However, for groups with four or five children, females tend to have higher insurance costs compared to males. This is indicated by positive discrepancies, meaning that, on average, males have lower insurance costs than females in these groups.\n",
    "\n",
    "> These findings suggest that the number of children can indeed influence the discrepancy of insurance costs between males and females. It's worth noting that insurance costs can be influenced by various factors, and the presence of children may interact with other variables to impact insurance costs differently for males and females."
   ]
  },
  {
   "cell_type": "markdown",
   "id": "66003dec",
   "metadata": {},
   "source": [
    "### Is there a significant difference in medical costs billed between male and female smokers compared to male and female non-smokers?"
   ]
  },
  {
   "cell_type": "code",
   "execution_count": 29,
   "id": "6a97e646",
   "metadata": {},
   "outputs": [
    {
     "name": "stdout",
     "output_type": "stream",
     "text": [
      "Percentage of smokers among males is 23.52%, females: 17.37%\n"
     ]
    }
   ],
   "source": [
    "def smoker_percentage(df):\n",
    "    # Filter the DataFrame for male smokers\n",
    "    male_smokers = df[(df['sex'] == 'male') & (df['smoker'] == 'yes')]\n",
    "    \n",
    "    # Count the total number of males\n",
    "    total_male_count = len(df[df['sex'] == 'male'])\n",
    "    \n",
    "    # Count the number of male smokers\n",
    "    smoker_male_count = len(male_smokers)\n",
    "    \n",
    "    # Calculate the percentage of male smokers\n",
    "    smoker_male_percentage = (smoker_male_count / total_male_count) * 100\n",
    "    \n",
    "    # Filter the DataFrame for female smokers\n",
    "    female_smokers = df[(df['sex'] == 'female') & (df['smoker'] == 'yes')]\n",
    "    \n",
    "    # Count the total number of females\n",
    "    total_female_count = len(df[df['sex'] == 'female'])\n",
    "    \n",
    "    # Count the number of female smokers\n",
    "    smoker_female_count = len(female_smokers)\n",
    "    \n",
    "    # Calculate the percentage of female smokers\n",
    "    smoker_female_percentage = (smoker_female_count / total_female_count) * 100\n",
    "    \n",
    "    # Format the percentages into a string\n",
    "    result = \"Percentage of smokers among males is {:.2f}%, females: {:.2f}%\".format(smoker_male_percentage, smoker_female_percentage)\n",
    "    \n",
    "    return result\n",
    "\n",
    "# Assuming 'df' is your DataFrame containing the data\n",
    "print(smoker_percentage(df))"
   ]
  },
  {
   "cell_type": "code",
   "execution_count": 36,
   "id": "143f48e1",
   "metadata": {},
   "outputs": [
    {
     "data": {
      "image/png": "[encoded data removed]",
      "text/plain": [
       "<Figure size 600x400 with 1 Axes>"
      ]
     },
     "metadata": {},
     "output_type": "display_data"
    }
   ],
   "source": [
    "# Create a count plot\n",
    "plt.figure(figsize=(6, 4))\n",
    "sns.countplot(x='sex', hue='smoker', data=df, palette='Set2')\n",
    "plt.title('Distribution of Smokers between Male and Female')\n",
    "plt.xlabel('Sex')\n",
    "plt.ylabel('Count')\n",
    "plt.legend(title='Smoker', loc='upper right')\n",
    "plt.show()"
   ]
  },
  {
   "cell_type": "markdown",
   "id": "fb9beaa7",
   "metadata": {},
   "source": [
    "> Percentage of Smokers among Males and Females:\n",
    "The percentages of smokers among males and females are provided as additional context.\n",
    "The percentage of smokers among males (23.52%) is higher than the percentage of smokers among females (17.37%).\n",
    "This suggests that a higher proportion of males in the dataset are smokers compared to females."
   ]
  },
  {
   "cell_type": "code",
   "execution_count": 30,
   "id": "510439e7",
   "metadata": {
    "scrolled": true
   },
   "outputs": [
    {
     "name": "stdout",
     "output_type": "stream",
     "text": [
      "P-values for normality tests:\n",
      "Male Smokers: 2.0795750970137306e-06\n",
      "Female Smokers: 1.6861573385540396e-05\n",
      "Male Non-Smokers: 4.592230495494514e-20\n",
      "Female Non-Smokers: 3.2060484547305744e-21\n",
      "\n",
      "P-values for variance tests:\n",
      "Male: 1.3253712426389895e-28\n",
      "Female: 5.802740739908003e-34\n"
     ]
    }
   ],
   "source": [
    "def check_normality_and_variance(df):\n",
    "    # Filter the DataFrame for male and female smokers\n",
    "    male_smokers = df[(df['sex'] == 'male') & (df['smoker'] == 'yes')]\n",
    "    female_smokers = df[(df['sex'] == 'female') & (df['smoker'] == 'yes')]\n",
    "    \n",
    "    # Filter the DataFrame for male and female non-smokers\n",
    "    male_non_smokers = df[(df['sex'] == 'male') & (df['smoker'] == 'no')]\n",
    "    female_non_smokers = df[(df['sex'] == 'female') & (df['smoker'] == 'no')]\n",
    "    \n",
    "    # Conduct Shapiro-Wilk test for normality\n",
    "    stat_male_smokers, p_value_male_smokers = shapiro(male_smokers['charges'])\n",
    "    stat_female_smokers, p_value_female_smokers = shapiro(female_smokers['charges'])\n",
    "    stat_male_non_smokers, p_value_male_non_smokers = shapiro(male_non_smokers['charges'])\n",
    "    stat_female_non_smokers, p_value_female_non_smokers = shapiro(female_non_smokers['charges'])\n",
    "    \n",
    "    # Conduct Levene's test for equality of variances\n",
    "    stat_var_male, p_value_var_male = levene(male_smokers['charges'], male_non_smokers['charges'])\n",
    "    stat_var_female, p_value_var_female = levene(female_smokers['charges'], female_non_smokers['charges'])\n",
    "    \n",
    "    return (p_value_male_smokers, p_value_female_smokers, p_value_male_non_smokers, p_value_female_non_smokers), (p_value_var_male, p_value_var_female)\n",
    "\n",
    "# Assuming 'df' is your DataFrame containing the data\n",
    "normality_p_values, variance_p_values = check_normality_and_variance(df)\n",
    "\n",
    "print(\"P-values for normality tests:\")\n",
    "print(\"Male Smokers:\", normality_p_values[0])\n",
    "print(\"Female Smokers:\", normality_p_values[1])\n",
    "print(\"Male Non-Smokers:\", normality_p_values[2])\n",
    "print(\"Female Non-Smokers:\", normality_p_values[3])\n",
    "print(\"\\nP-values for variance tests:\")\n",
    "print(\"Male:\", variance_p_values[0])\n",
    "print(\"Female:\", variance_p_values[1])"
   ]
  },
  {
   "cell_type": "markdown",
   "id": "13e5f096",
   "metadata": {},
   "source": [
    "> Normality Tests:\n",
    "\n",
    "For both male and female smokers, as well as male and female non-smokers, the p-values obtained from the Shapiro-Wilk tests are all less than 0.05.\n",
    "This suggests that we reject the null hypothesis of normality for all groups. In other words, the data for medical costs billed is not normally distributed in any of the groups.\n",
    "\n",
    "> Variance Tests:\n",
    "\n",
    "For both male and female groups, the p-values obtained from Levene's tests for equality of variances are extremely small (much less than 0.05).\n",
    "This suggests that we reject the null hypothesis of equal variances for both male and female groups. In other words, the variances of medical costs billed are not equal between male and female groups.\n",
    "\n",
    "> Given that the assumptions of normality and equal variances are violated, it's appropriate to use non-parametric tests or robust methods for comparing the medical costs between male and female smokers and non-smokers. One option could be the Mann-Whitney U test, which is a non-parametric alternative to the independent samples t-test."
   ]
  },
  {
   "cell_type": "code",
   "execution_count": 31,
   "id": "d21057e7",
   "metadata": {},
   "outputs": [
    {
     "name": "stdout",
     "output_type": "stream",
     "text": [
      "Mann-Whitney U test p-value for male smokers vs. male non-smokers: 1.5445407334345847e-74\n",
      "Mann-Whitney U test p-value for female smokers vs. female non-smokers: 1.6913753451247513e-56\n"
     ]
    }
   ],
   "source": [
    "def mann_whitney_u_test(df):\n",
    "    # Filter the DataFrame for male and female smokers\n",
    "    male_smokers = df[(df['sex'] == 'male') & (df['smoker'] == 'yes')]\n",
    "    female_smokers = df[(df['sex'] == 'female') & (df['smoker'] == 'yes')]\n",
    "    \n",
    "    # Filter the DataFrame for male and female non-smokers\n",
    "    male_non_smokers = df[(df['sex'] == 'male') & (df['smoker'] == 'no')]\n",
    "    female_non_smokers = df[(df['sex'] == 'female') & (df['smoker'] == 'no')]\n",
    "    \n",
    "    # Perform Mann-Whitney U test for male smokers vs. male non-smokers\n",
    "    stat_male, p_value_male = mannwhitneyu(male_smokers['charges'], male_non_smokers['charges'])\n",
    "    \n",
    "    # Perform Mann-Whitney U test for female smokers vs. female non-smokers\n",
    "    stat_female, p_value_female = mannwhitneyu(female_smokers['charges'], female_non_smokers['charges'])\n",
    "    \n",
    "    return p_value_male, p_value_female\n",
    "\n",
    "# Assuming 'df' is your DataFrame containing the data\n",
    "p_value_male, p_value_female = mann_whitney_u_test(df)\n",
    "\n",
    "print(\"Mann-Whitney U test p-value for male smokers vs. male non-smokers:\", p_value_male)\n",
    "print(\"Mann-Whitney U test p-value for female smokers vs. female non-smokers:\", p_value_female)"
   ]
  },
  {
   "cell_type": "markdown",
   "id": "8639e530",
   "metadata": {},
   "source": [
    "Mann-Whitney U Test Results:\n",
    "The Mann-Whitney U test p-values for both male smokers vs. male non-smokers and female smokers vs. female non-smokers are significantly small (much less than 0.05).\n",
    "This indicates a significant difference in medical costs billed between smokers and non-smokers within both gender groups.\n",
    "Specifically, for both males and females, individuals who smoke tend to have significantly higher medical costs billed compared to those who do not smoke.\n",
    "\n",
    "> The significantly small p-values from the Mann-Whitney U tests indicate that smoking status has a significant impact on medical costs billed, regardless of gender.\n",
    "\n",
    " - Additionally, the higher percentage of male smokers compared to female smokers suggests that the higher prevalence of smoking among males could contribute to the observed difference in medical costs between male and female smokers.\n",
    " \n",
    "Overall, these results highlight the importance of smoking cessation efforts and the potential financial implications of smoking on healthcare costs, emphasizing the need for targeted interventions to reduce smoking rates and improve public health outcomes."
   ]
  },
  {
   "cell_type": "markdown",
   "id": "e64b5fc2",
   "metadata": {},
   "source": [
    "### Do male and female beneficiaries from certain regions tend to have higher medical costs billed compared to those from other regions?"
   ]
  },
  {
   "cell_type": "code",
   "execution_count": null,
   "id": "d237522f",
   "metadata": {},
   "outputs": [],
   "source": []
  },
  {
   "cell_type": "markdown",
   "id": "08307a91",
   "metadata": {},
   "source": [
    "### Does gender have a significant impact on medical charges among individuals with different BMI categories, particularly focusing on overweight individuals (25.0 <= BMI < 30.0) and obese individuals (BMI >= 30)"
   ]
  },
  {
   "cell_type": "code",
   "execution_count": 55,
   "id": "8f2a8dd3",
   "metadata": {},
   "outputs": [
    {
     "name": "stdout",
     "output_type": "stream",
     "text": [
      "Mann-Whitney U test statistic: 121626.0\n",
      "p-value: 0.002958017122337365\n",
      "There is a significant difference in charges between overweight and obese individuals.\n"
     ]
    }
   ],
   "source": [
    "# medical charges among individuals with different BMI categories, particularly focusing on overweight individuals \n",
    "\n",
    "# Filter the data for overweight and obese individuals\n",
    "overweight_data = df[(df['bmi'] >= 25.0) & (df['bmi'] < 30.0)]\n",
    "obese_data = df[df['bmi'] >= 30.0]\n",
    "\n",
    "# Perform Mann-Whitney U test\n",
    "statistic, p_value = mannwhitneyu(overweight_data['charges'], obese_data['charges'])\n",
    "\n",
    "# Print the results\n",
    "print(\"Mann-Whitney U test statistic:\", statistic)\n",
    "print(\"p-value:\", p_value)\n",
    "\n",
    "# Interpret the results\n",
    "if p_value < 0.05:\n",
    "    print(\"There is a significant difference in charges between overweight and obese individuals.\")\n",
    "else:\n",
    "    print(\"There is no significant difference in charges between overweight and obese individuals.\")"
   ]
  },
  {
   "cell_type": "markdown",
   "id": "c9124868",
   "metadata": {},
   "source": [
    "Does gender have a significant impact on the above difference?"
   ]
  },
  {
   "cell_type": "code",
   "execution_count": 53,
   "id": "1bb727ba",
   "metadata": {},
   "outputs": [
    {
     "name": "stdout",
     "output_type": "stream",
     "text": [
      "Percentage of smokers among overweight males is 22.99%, females: 15.58%\n",
      "Percentage of smokers among obese males is 24.93%, females: 15.57%\n"
     ]
    }
   ],
   "source": [
    "def smoker_percentage(df):\n",
    "    # Filter the DataFrame for overweight males and count smokers\n",
    "    overweight_males = df[(df['sex'] == 'male') & (df['bmi'] >= 25.0) & (df['bmi'] < 30.0)]\n",
    "    overweight_male_smokers = overweight_males[overweight_males['smoker'] == 'yes']\n",
    "    overweight_male_count = len(overweight_males)\n",
    "    overweight_male_smoker_count = len(overweight_male_smokers)\n",
    "    \n",
    "    # Calculate the percentage of overweight male smokers\n",
    "    overweight_male_smoker_percentage = (overweight_male_smoker_count / overweight_male_count) * 100\n",
    "    \n",
    "    # Filter the DataFrame for overweight females and count smokers\n",
    "    overweight_females = df[(df['sex'] == 'female') & (df['bmi'] >= 25.0) & (df['bmi'] < 30.0)]\n",
    "    overweight_female_smokers = overweight_females[overweight_females['smoker'] == 'yes']\n",
    "    overweight_female_count = len(overweight_females)\n",
    "    overweight_female_smoker_count = len(overweight_female_smokers)\n",
    "    \n",
    "    # Calculate the percentage of overweight female smokers\n",
    "    overweight_female_smoker_percentage = (overweight_female_smoker_count / overweight_female_count) * 100\n",
    "    \n",
    "    # Filter the DataFrame for obese males and count smokers\n",
    "    obese_males = df[(df['sex'] == 'male') & (df['bmi'] >= 30.0)]\n",
    "    obese_male_smokers = obese_males[obese_males['smoker'] == 'yes']\n",
    "    obese_male_count = len(obese_males)\n",
    "    obese_male_smoker_count = len(obese_male_smokers)\n",
    "    \n",
    "    # Calculate the percentage of obese male smokers\n",
    "    obese_male_smoker_percentage = (obese_male_smoker_count / obese_male_count) * 100\n",
    "    \n",
    "    # Filter the DataFrame for obese females and count smokers\n",
    "    obese_females = df[(df['sex'] == 'female') & (df['bmi'] >= 30.0)]\n",
    "    obese_female_smokers = obese_females[obese_females['smoker'] == 'yes']\n",
    "    obese_female_count = len(obese_females)\n",
    "    obese_female_smoker_count = len(obese_female_smokers)\n",
    "    \n",
    "    # Calculate the percentage of obese female smokers\n",
    "    obese_female_smoker_percentage = (obese_female_smoker_count / obese_female_count) * 100\n",
    "    \n",
    "    # Format the percentages into a string\n",
    "    result = \"Percentage of smokers among overweight males is {:.2f}%, females: {:.2f}%\\n\" \\\n",
    "             \"Percentage of smokers among obese males is {:.2f}%, females: {:.2f}%\".format(overweight_male_smoker_percentage,\n",
    "                                                                                           overweight_female_smoker_percentage,\n",
    "                                                                                           obese_male_smoker_percentage,\n",
    "                                                                                           obese_female_smoker_percentage)\n",
    "    \n",
    "    return result\n",
    "\n",
    "# Assuming 'df' is your DataFrame containing the data\n",
    "print(smoker_percentage(df))"
   ]
  },
  {
   "cell_type": "code",
   "execution_count": 51,
   "id": "efd5f341",
   "metadata": {},
   "outputs": [
    {
     "name": "stdout",
     "output_type": "stream",
     "text": [
      "Overweight Males - Normality: 1.161010843020449e-09 Variance: 73412935.577447\n",
      "Overweight Females - Normality: 4.5609356569276116e-11 Variance: 56426279.14552228\n",
      "Obese Males - Normality: 3.893294866512457e-20 Variance: 234505601.93562233\n",
      "Obese Females - Normality: 9.658849880081756e-21 Variance: 184353105.1779729\n"
     ]
    }
   ],
   "source": [
    "# Filter the dataset for overweight individuals (25.0 <= BMI < 30.0) and obese individuals (BMI >= 30)\n",
    "overweight_df = df[(df['bmi'] >= 25.0) & (df['bmi'] < 30.0)]\n",
    "obese_df = df[df['bmi'] >= 30.0]\n",
    "\n",
    "# Split the datasets into two groups based on gender\n",
    "male_overweight = overweight_df[overweight_df['sex'] == 'male']\n",
    "female_overweight = overweight_df[overweight_df['sex'] == 'female']\n",
    "\n",
    "male_obese = obese_df[obese_df['sex'] == 'male']\n",
    "female_obese = obese_df[obese_df['sex'] == 'female']\n",
    "\n",
    "# Test for normality and variance within each group\n",
    "def test_normality_and_variance(data):\n",
    "    # Test for normality using Shapiro-Wilk test\n",
    "    stat, p_value_norm = shapiro(data['charges'])\n",
    "    \n",
    "    # Calculate variance\n",
    "    variance = np.var(data['charges'], ddof=1)\n",
    "    \n",
    "    return p_value_norm, variance\n",
    "\n",
    "# Test normality and variance for overweight males and females\n",
    "p_value_norm_overweight_male, variance_overweight_male = test_normality_and_variance(male_overweight)\n",
    "p_value_norm_overweight_female, variance_overweight_female = test_normality_and_variance(female_overweight)\n",
    "\n",
    "# Test normality and variance for obese males and females\n",
    "p_value_norm_obese_male, variance_obese_male = test_normality_and_variance(male_obese)\n",
    "p_value_norm_obese_female, variance_obese_female = test_normality_and_variance(female_obese)\n",
    "\n",
    "print(\"Overweight Males - Normality:\", p_value_norm_overweight_male, \"Variance:\", variance_overweight_male)\n",
    "print(\"Overweight Females - Normality:\", p_value_norm_overweight_female, \"Variance:\", variance_overweight_female)\n",
    "print(\"Obese Males - Normality:\", p_value_norm_obese_male, \"Variance:\", variance_obese_male)\n",
    "print(\"Obese Females - Normality:\", p_value_norm_obese_female, \"Variance:\", variance_obese_female)"
   ]
  },
  {
   "cell_type": "code",
   "execution_count": 52,
   "id": "1f3d05f9",
   "metadata": {},
   "outputs": [
    {
     "name": "stdout",
     "output_type": "stream",
     "text": [
      "Overweight: Mann-Whitney U test statistic = 18929.0 p-value = 0.7688115195969243\n",
      "Obese: Mann-Whitney U test statistic = 64798.0 p-value = 0.3552181394548566\n"
     ]
    }
   ],
   "source": [
    "# Perform Mann-Whitney U test for overweight individuals\n",
    "statistic_overweight, p_value_overweight = mannwhitneyu(male_overweight['charges'], female_overweight['charges'])\n",
    "\n",
    "# Perform Mann-Whitney U test for obese individuals\n",
    "statistic_obese, p_value_obese = mannwhitneyu(male_obese['charges'], female_obese['charges'])\n",
    "\n",
    "# Print the results\n",
    "print(\"Overweight: Mann-Whitney U test statistic =\", statistic_overweight, \"p-value =\", p_value_overweight)\n",
    "print(\"Obese: Mann-Whitney U test statistic =\", statistic_obese, \"p-value =\", p_value_obese)"
   ]
  },
  {
   "cell_type": "markdown",
   "id": "1b778bf4",
   "metadata": {},
   "source": [
    "> For overweight individuals, the p-value is approximately 0.769. Since this p-value is greater than the typical significance level of 0.05, we fail to reject the null hypothesis. Therefore, there is no significant difference in charges between males and females within the overweight BMI category.\n",
    "\n",
    "> For obese individuals, the p-value is approximately 0.355. Similarly, this p-value is greater than 0.05, indicating that we fail to reject the null hypothesis. Hence, there is no significant difference in charges between males and females within the obese BMI category.\n",
    "\n",
    "In summary, based on the Mann-Whitney U test results, there is no evidence to suggest a significant difference in medical charges between males and females within either the overweight or obese BMI categories."
   ]
  },
  {
   "cell_type": "code",
   "execution_count": null,
   "id": "ba02e632",
   "metadata": {},
   "outputs": [],
   "source": []
  }
 ],
 "metadata": {
  "kernelspec": {
   "display_name": "Python 3 (ipykernel)",
   "language": "python",
   "name": "python3"
  },
  "language_info": {
   "codemirror_mode": {
    "name": "ipython",
    "version": 3
   },
   "file_extension": ".py",
   "mimetype": "text/x-python",
   "name": "python",
   "nbconvert_exporter": "python",
   "pygments_lexer": "ipython3",
   "version": "3.9.15"
  }
 },
 "nbformat": 4,
 "nbformat_minor": 5
}
